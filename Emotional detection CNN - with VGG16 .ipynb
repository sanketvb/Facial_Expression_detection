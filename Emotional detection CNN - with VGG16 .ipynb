{
 "cells": [
  {
   "cell_type": "code",
   "execution_count": 1,
   "metadata": {
    "execution": {
     "iopub.execute_input": "2021-03-19T14:10:54.528271Z",
     "iopub.status.busy": "2021-03-19T14:10:54.527561Z",
     "iopub.status.idle": "2021-03-19T14:11:01.693100Z",
     "shell.execute_reply": "2021-03-19T14:11:01.693651Z"
    },
    "papermill": {
     "duration": 7.186615,
     "end_time": "2021-03-19T14:11:01.693964",
     "exception": false,
     "start_time": "2021-03-19T14:10:54.507349",
     "status": "completed"
    },
    "tags": []
   },
   "outputs": [],
   "source": [
    "import numpy as np\n",
    "import pandas as pd\n",
    "import matplotlib.pyplot as plt\n",
    "import seaborn as sn\n",
    "import skimage.io\n",
    "import keras.backend as K\n",
    "import tensorflow as tf\n",
    "from tensorflow.keras.preprocessing.image import ImageDataGenerator\n",
    "from tensorflow.keras.applications import VGG16\n",
    "from tensorflow.keras.layers import Dense, Flatten, Dropout,BatchNormalization ,Activation\n",
    "from tensorflow.keras.models import Model, Sequential\n",
    "from keras.applications.nasnet import NASNetLarge\n",
    "from tensorflow.keras.callbacks import ReduceLROnPlateau, ModelCheckpoint, EarlyStopping\n",
    "from tensorflow.keras.optimizers import Adam"
   ]
  },
  {
   "cell_type": "code",
   "execution_count": 2,
   "metadata": {
    "execution": {
     "iopub.execute_input": "2021-03-19T14:11:01.728661Z",
     "iopub.status.busy": "2021-03-19T14:11:01.727964Z",
     "iopub.status.idle": "2021-03-19T14:11:01.731202Z",
     "shell.execute_reply": "2021-03-19T14:11:01.730705Z"
    },
    "papermill": {
     "duration": 0.023573,
     "end_time": "2021-03-19T14:11:01.731365",
     "exception": false,
     "start_time": "2021-03-19T14:11:01.707792",
     "status": "completed"
    },
    "tags": []
   },
   "outputs": [],
   "source": [
    "train_datagen = ImageDataGenerator(rescale = 1./255,\n",
    "                                   validation_split = 0.2,\n",
    "                                  \n",
    "        rotation_range=5,\n",
    "        width_shift_range=0.2,\n",
    "        height_shift_range=0.2,\n",
    "        shear_range=0.2,\n",
    "        #zoom_range=0.2,\n",
    "        horizontal_flip=True,\n",
    "        vertical_flip=True,\n",
    "        fill_mode='nearest')\n",
    "\n",
    "valid_datagen = ImageDataGenerator(rescale = 1./255,\n",
    "                                  validation_split = 0.2)\n",
    "\n",
    "test_datagen  = ImageDataGenerator(rescale = 1./255\n",
    "                                  )"
   ]
  },
  {
   "cell_type": "code",
   "execution_count": 3,
   "metadata": {
    "execution": {
     "iopub.execute_input": "2021-03-19T14:11:01.763657Z",
     "iopub.status.busy": "2021-03-19T14:11:01.763023Z",
     "iopub.status.idle": "2021-03-19T14:11:32.190038Z",
     "shell.execute_reply": "2021-03-19T14:11:32.190552Z"
    },
    "papermill": {
     "duration": 30.445742,
     "end_time": "2021-03-19T14:11:32.190731",
     "exception": false,
     "start_time": "2021-03-19T14:11:01.744989",
     "status": "completed"
    },
    "tags": []
   },
   "outputs": [
    {
     "name": "stdout",
     "output_type": "stream",
     "text": [
      "Found 23060 images belonging to 7 classes.\n"
     ]
    }
   ],
   "source": [
    "train_dataset  = train_datagen.flow_from_directory(directory = 'C:/Users/unknown/Downloads/Emotion_detection/Emotion_detection/Emotion_data/train',\n",
    "                                                   target_size = (48,48),\n",
    "                                                   class_mode = 'categorical',\n",
    "                                                   subset = 'training',\n",
    "                                                   batch_size = 64)"
   ]
  },
  {
   "cell_type": "code",
   "execution_count": 4,
   "metadata": {
    "execution": {
     "iopub.execute_input": "2021-03-19T14:11:32.223940Z",
     "iopub.status.busy": "2021-03-19T14:11:32.223167Z",
     "iopub.status.idle": "2021-03-19T14:11:32.743362Z",
     "shell.execute_reply": "2021-03-19T14:11:32.743889Z"
    },
    "papermill": {
     "duration": 0.539568,
     "end_time": "2021-03-19T14:11:32.744069",
     "exception": false,
     "start_time": "2021-03-19T14:11:32.204501",
     "status": "completed"
    },
    "tags": []
   },
   "outputs": [
    {
     "name": "stdout",
     "output_type": "stream",
     "text": [
      "Found 5761 images belonging to 7 classes.\n"
     ]
    }
   ],
   "source": [
    "valid_dataset = valid_datagen.flow_from_directory(directory = 'C:/Users/unknown/Downloads/Emotion_detection/Emotion_detection/Emotion_data/train',\n",
    "                                                  target_size = (48,48),\n",
    "                                                  class_mode = 'categorical',\n",
    "                                                  subset = 'validation',\n",
    "                                                  batch_size = 64)"
   ]
  },
  {
   "cell_type": "code",
   "execution_count": 5,
   "metadata": {
    "execution": {
     "iopub.execute_input": "2021-03-19T14:11:32.778671Z",
     "iopub.status.busy": "2021-03-19T14:11:32.777988Z",
     "iopub.status.idle": "2021-03-19T14:11:39.844059Z",
     "shell.execute_reply": "2021-03-19T14:11:39.844785Z"
    },
    "papermill": {
     "duration": 7.086355,
     "end_time": "2021-03-19T14:11:39.845033",
     "exception": false,
     "start_time": "2021-03-19T14:11:32.758678",
     "status": "completed"
    },
    "tags": []
   },
   "outputs": [
    {
     "name": "stdout",
     "output_type": "stream",
     "text": [
      "Found 7066 images belonging to 7 classes.\n"
     ]
    }
   ],
   "source": [
    "test_dataset = test_datagen.flow_from_directory(directory = 'C:/Users/unknown/Downloads/Emotion_detection/Emotion_detection/Emotion_data/validation',\n",
    "                                                  target_size = (48,48),\n",
    "                                                  class_mode = 'categorical',\n",
    "                                                  batch_size = 64)"
   ]
  },
  {
   "cell_type": "code",
   "execution_count": 10,
   "metadata": {
    "execution": {
     "iopub.execute_input": "2021-03-19T14:11:40.095863Z",
     "iopub.status.busy": "2021-03-19T14:11:40.094871Z",
     "iopub.status.idle": "2021-03-19T14:11:42.669269Z",
     "shell.execute_reply": "2021-03-19T14:11:42.668084Z"
    },
    "papermill": {
     "duration": 2.593869,
     "end_time": "2021-03-19T14:11:42.669451",
     "exception": false,
     "start_time": "2021-03-19T14:11:40.075582",
     "status": "completed"
    },
    "tags": []
   },
   "outputs": [],
   "source": [
    "base_model = tf.keras.applications.VGG16(input_shape=(48,48,3),include_top=False,weights=\"imagenet\")"
   ]
  },
  {
   "cell_type": "code",
   "execution_count": 11,
   "metadata": {
    "execution": {
     "iopub.execute_input": "2021-03-19T14:11:42.723822Z",
     "iopub.status.busy": "2021-03-19T14:11:42.723145Z",
     "iopub.status.idle": "2021-03-19T14:11:42.725917Z",
     "shell.execute_reply": "2021-03-19T14:11:42.726434Z"
    },
    "papermill": {
     "duration": 0.034786,
     "end_time": "2021-03-19T14:11:42.726604",
     "exception": false,
     "start_time": "2021-03-19T14:11:42.691818",
     "status": "completed"
    },
    "tags": []
   },
   "outputs": [],
   "source": [
    "# Freezing Layers\n",
    "\n",
    "for layer in base_model.layers[:-2]:\n",
    "    layer.trainable=False"
   ]
  },
  {
   "cell_type": "code",
   "execution_count": 16,
   "metadata": {
    "execution": {
     "iopub.execute_input": "2021-03-19T14:11:42.784399Z",
     "iopub.status.busy": "2021-03-19T14:11:42.782292Z",
     "iopub.status.idle": "2021-03-19T14:11:43.316794Z",
     "shell.execute_reply": "2021-03-19T14:11:43.316225Z"
    },
    "papermill": {
     "duration": 0.569345,
     "end_time": "2021-03-19T14:11:43.316946",
     "exception": false,
     "start_time": "2021-03-19T14:11:42.747601",
     "status": "completed"
    },
    "tags": []
   },
   "outputs": [],
   "source": [
    "# Building Model\n",
    "\n",
    "model2=Sequential()\n",
    "model2.add(base_model)\n",
    "model2.add(Dropout(0.5))\n",
    "model2.add(Flatten())\n",
    "model2.add(BatchNormalization())\n",
    "model2.add(Dense(32,kernel_initializer='he_uniform'))\n",
    "model2.add(BatchNormalization())\n",
    "model2.add(Activation('relu'))\n",
    "model2.add(Dropout(0.5))\n",
    "model2.add(Dense(32,kernel_initializer='he_uniform'))\n",
    "model2.add(BatchNormalization())\n",
    "model2.add(Activation('relu'))\n",
    "model2.add(Dropout(0.5))\n",
    "model2.add(Dense(32,kernel_initializer='he_uniform'))\n",
    "model2.add(BatchNormalization())\n",
    "model2.add(Activation('relu'))\n",
    "model2.add(Dense(7,activation='softmax'))"
   ]
  },
  {
   "cell_type": "code",
   "execution_count": 17,
   "metadata": {
    "execution": {
     "iopub.execute_input": "2021-03-19T14:11:43.371442Z",
     "iopub.status.busy": "2021-03-19T14:11:43.370503Z",
     "iopub.status.idle": "2021-03-19T14:11:43.384684Z",
     "shell.execute_reply": "2021-03-19T14:11:43.383902Z"
    },
    "papermill": {
     "duration": 0.046727,
     "end_time": "2021-03-19T14:11:43.384852",
     "exception": false,
     "start_time": "2021-03-19T14:11:43.338125",
     "status": "completed"
    },
    "tags": []
   },
   "outputs": [
    {
     "name": "stdout",
     "output_type": "stream",
     "text": [
      "Model: \"sequential_2\"\n",
      "_________________________________________________________________\n",
      " Layer (type)                Output Shape              Param #   \n",
      "=================================================================\n",
      " vgg16 (Functional)          (None, 1, 1, 512)         14714688  \n",
      "                                                                 \n",
      " dropout_6 (Dropout)         (None, 1, 1, 512)         0         \n",
      "                                                                 \n",
      " flatten_2 (Flatten)         (None, 512)               0         \n",
      "                                                                 \n",
      " batch_normalization_8 (Batc  (None, 512)              2048      \n",
      " hNormalization)                                                 \n",
      "                                                                 \n",
      " dense_8 (Dense)             (None, 32)                16416     \n",
      "                                                                 \n",
      " batch_normalization_9 (Batc  (None, 32)               128       \n",
      " hNormalization)                                                 \n",
      "                                                                 \n",
      " activation_6 (Activation)   (None, 32)                0         \n",
      "                                                                 \n",
      " dropout_7 (Dropout)         (None, 32)                0         \n",
      "                                                                 \n",
      " dense_9 (Dense)             (None, 32)                1056      \n",
      "                                                                 \n",
      " batch_normalization_10 (Bat  (None, 32)               128       \n",
      " chNormalization)                                                \n",
      "                                                                 \n",
      " activation_7 (Activation)   (None, 32)                0         \n",
      "                                                                 \n",
      " dropout_8 (Dropout)         (None, 32)                0         \n",
      "                                                                 \n",
      " dense_10 (Dense)            (None, 32)                1056      \n",
      "                                                                 \n",
      " batch_normalization_11 (Bat  (None, 32)               128       \n",
      " chNormalization)                                                \n",
      "                                                                 \n",
      " activation_8 (Activation)   (None, 32)                0         \n",
      "                                                                 \n",
      " dense_11 (Dense)            (None, 7)                 231       \n",
      "                                                                 \n",
      "=================================================================\n",
      "Total params: 14,735,879\n",
      "Trainable params: 2,379,783\n",
      "Non-trainable params: 12,356,096\n",
      "_________________________________________________________________\n"
     ]
    }
   ],
   "source": [
    "# Model Summary\n",
    "\n",
    "model2.summary()"
   ]
  },
  {
   "cell_type": "code",
   "execution_count": 18,
   "metadata": {
    "execution": {
     "iopub.execute_input": "2021-03-19T14:11:44.180596Z",
     "iopub.status.busy": "2021-03-19T14:11:44.179598Z",
     "iopub.status.idle": "2021-03-19T14:11:44.182421Z",
     "shell.execute_reply": "2021-03-19T14:11:44.182864Z"
    },
    "papermill": {
     "duration": 0.036498,
     "end_time": "2021-03-19T14:11:44.183038",
     "exception": false,
     "start_time": "2021-03-19T14:11:44.146540",
     "status": "completed"
    },
    "tags": []
   },
   "outputs": [],
   "source": [
    "def f1_score(y_true, y_pred): #taken from old keras source code\n",
    "    true_positives = K.sum(K.round(K.clip(y_true * y_pred, 0, 1)))\n",
    "    possible_positives = K.sum(K.round(K.clip(y_true, 0, 1)))\n",
    "    predicted_positives = K.sum(K.round(K.clip(y_pred, 0, 1)))\n",
    "    precision = true_positives / (predicted_positives + K.epsilon())\n",
    "    recall = true_positives / (possible_positives + K.epsilon())\n",
    "    f1_val = 2*(precision*recall)/(precision+recall+K.epsilon())\n",
    "    return f1_val"
   ]
  },
  {
   "cell_type": "code",
   "execution_count": 19,
   "metadata": {
    "execution": {
     "iopub.execute_input": "2021-03-19T14:11:44.247432Z",
     "iopub.status.busy": "2021-03-19T14:11:44.246708Z",
     "iopub.status.idle": "2021-03-19T14:11:44.267143Z",
     "shell.execute_reply": "2021-03-19T14:11:44.266459Z"
    },
    "papermill": {
     "duration": 0.059514,
     "end_time": "2021-03-19T14:11:44.267307",
     "exception": false,
     "start_time": "2021-03-19T14:11:44.207793",
     "status": "completed"
    },
    "tags": []
   },
   "outputs": [],
   "source": [
    "METRICS = [\n",
    "      tf.keras.metrics.BinaryAccuracy(name='accuracy'),\n",
    "      tf.keras.metrics.Precision(name='precision'),\n",
    "      tf.keras.metrics.Recall(name='recall'),  \n",
    "      tf.keras.metrics.AUC(name='auc'),\n",
    "        f1_score,\n",
    "]"
   ]
  },
  {
   "cell_type": "code",
   "execution_count": 20,
   "metadata": {
    "execution": {
     "iopub.execute_input": "2021-03-19T14:11:44.324059Z",
     "iopub.status.busy": "2021-03-19T14:11:44.323343Z",
     "iopub.status.idle": "2021-03-19T14:11:44.326538Z",
     "shell.execute_reply": "2021-03-19T14:11:44.325966Z"
    },
    "papermill": {
     "duration": 0.034011,
     "end_time": "2021-03-19T14:11:44.326686",
     "exception": false,
     "start_time": "2021-03-19T14:11:44.292675",
     "status": "completed"
    },
    "tags": []
   },
   "outputs": [],
   "source": [
    "lrd = ReduceLROnPlateau(monitor = 'val_loss',patience = 20,verbose = 1,factor = 0.50, min_lr = 1e-10)\n",
    "\n",
    "mcp = ModelCheckpoint('model2.h5')\n",
    "\n",
    "es = EarlyStopping(verbose=1, patience=20)"
   ]
  },
  {
   "cell_type": "code",
   "execution_count": 21,
   "metadata": {
    "execution": {
     "iopub.execute_input": "2021-03-19T14:11:44.380866Z",
     "iopub.status.busy": "2021-03-19T14:11:44.380146Z",
     "iopub.status.idle": "2021-03-19T14:11:44.400571Z",
     "shell.execute_reply": "2021-03-19T14:11:44.401065Z"
    },
    "papermill": {
     "duration": 0.049266,
     "end_time": "2021-03-19T14:11:44.401331",
     "exception": false,
     "start_time": "2021-03-19T14:11:44.352065",
     "status": "completed"
    },
    "tags": []
   },
   "outputs": [],
   "source": [
    "model2.compile(optimizer='Adam', loss='categorical_crossentropy',metrics=METRICS)"
   ]
  },
  {
   "cell_type": "code",
   "execution_count": 22,
   "metadata": {
    "execution": {
     "iopub.execute_input": "2021-03-19T14:11:44.457613Z",
     "iopub.status.busy": "2021-03-19T14:11:44.456317Z",
     "iopub.status.idle": "2021-03-19T16:54:37.827089Z",
     "shell.execute_reply": "2021-03-19T16:54:37.827762Z"
    },
    "papermill": {
     "duration": 9773.401006,
     "end_time": "2021-03-19T16:54:37.828798",
     "exception": false,
     "start_time": "2021-03-19T14:11:44.427792",
     "status": "completed"
    },
    "tags": []
   },
   "outputs": [
    {
     "name": "stdout",
     "output_type": "stream",
     "text": [
      "Epoch 1/60\n",
      "361/361 [==============================] - 296s 785ms/step - loss: 1.8875 - accuracy: 0.8556 - precision: 0.1949 - recall: 0.0033 - auc: 0.6217 - f1_score: 0.0064 - val_loss: 1.7651 - val_accuracy: 0.8571 - val_precision: 0.0000e+00 - val_recall: 0.0000e+00 - val_auc: 0.6995 - val_f1_score: 0.0000e+00 - lr: 0.0010\n",
      "Epoch 2/60\n",
      "361/361 [==============================] - 281s 777ms/step - loss: 1.7990 - accuracy: 0.8570 - precision: 0.4565 - recall: 0.0055 - auc: 0.6637 - f1_score: 0.0107 - val_loss: 1.7267 - val_accuracy: 0.8572 - val_precision: 1.0000 - val_recall: 5.2074e-04 - val_auc: 0.7114 - val_f1_score: 0.0010 - lr: 0.0010\n",
      "Epoch 3/60\n",
      "361/361 [==============================] - 286s 791ms/step - loss: 1.7692 - accuracy: 0.8572 - precision: 0.5155 - recall: 0.0094 - auc: 0.6800 - f1_score: 0.0182 - val_loss: 1.7063 - val_accuracy: 0.8575 - val_precision: 1.0000 - val_recall: 0.0023 - val_auc: 0.7171 - val_f1_score: 0.0044 - lr: 0.0010\n",
      "Epoch 4/60\n",
      "361/361 [==============================] - 298s 825ms/step - loss: 1.7521 - accuracy: 0.8576 - precision: 0.5720 - recall: 0.0117 - auc: 0.6888 - f1_score: 0.0227 - val_loss: 1.6835 - val_accuracy: 0.8583 - val_precision: 0.9592 - val_recall: 0.0082 - val_auc: 0.7301 - val_f1_score: 0.0158 - lr: 0.0010\n",
      "Epoch 5/60\n",
      "361/361 [==============================] - 320s 885ms/step - loss: 1.7390 - accuracy: 0.8575 - precision: 0.5513 - recall: 0.0137 - auc: 0.6969 - f1_score: 0.0266 - val_loss: 1.6827 - val_accuracy: 0.8572 - val_precision: 1.0000 - val_recall: 5.2074e-04 - val_auc: 0.7288 - val_f1_score: 0.0010 - lr: 0.0010\n",
      "Epoch 6/60\n",
      "361/361 [==============================] - 331s 917ms/step - loss: 1.7299 - accuracy: 0.8573 - precision: 0.5149 - recall: 0.0142 - auc: 0.7026 - f1_score: 0.0274 - val_loss: 1.6871 - val_accuracy: 0.8581 - val_precision: 0.8491 - val_recall: 0.0078 - val_auc: 0.7243 - val_f1_score: 0.0151 - lr: 0.0010\n",
      "Epoch 7/60\n",
      "361/361 [==============================] - 334s 925ms/step - loss: 1.7208 - accuracy: 0.8577 - precision: 0.5612 - recall: 0.0195 - auc: 0.7063 - f1_score: 0.0372 - val_loss: 1.6669 - val_accuracy: 0.8578 - val_precision: 1.0000 - val_recall: 0.0045 - val_auc: 0.7341 - val_f1_score: 0.0088 - lr: 0.0010\n",
      "Epoch 8/60\n",
      "361/361 [==============================] - 336s 931ms/step - loss: 1.7122 - accuracy: 0.8578 - precision: 0.5524 - recall: 0.0233 - auc: 0.7121 - f1_score: 0.0444 - val_loss: 1.6754 - val_accuracy: 0.8590 - val_precision: 0.7312 - val_recall: 0.0203 - val_auc: 0.7319 - val_f1_score: 0.0386 - lr: 0.0010\n",
      "Epoch 9/60\n",
      "361/361 [==============================] - 352s 977ms/step - loss: 1.7093 - accuracy: 0.8578 - precision: 0.5508 - recall: 0.0256 - auc: 0.7120 - f1_score: 0.0486 - val_loss: 1.6655 - val_accuracy: 0.8598 - val_precision: 0.8204 - val_recall: 0.0238 - val_auc: 0.7343 - val_f1_score: 0.0449 - lr: 0.0010\n",
      "Epoch 10/60\n",
      "361/361 [==============================] - 394s 1s/step - loss: 1.7095 - accuracy: 0.8577 - precision: 0.5456 - recall: 0.0254 - auc: 0.7124 - f1_score: 0.0479 - val_loss: 1.6706 - val_accuracy: 0.8578 - val_precision: 0.7917 - val_recall: 0.0066 - val_auc: 0.7330 - val_f1_score: 0.0127 - lr: 0.0010\n",
      "Epoch 11/60\n",
      "361/361 [==============================] - 337s 932ms/step - loss: 1.7017 - accuracy: 0.8582 - precision: 0.5633 - recall: 0.0317 - auc: 0.7164 - f1_score: 0.0593 - val_loss: 1.6382 - val_accuracy: 0.8588 - val_precision: 0.8269 - val_recall: 0.0149 - val_auc: 0.7468 - val_f1_score: 0.0285 - lr: 0.0010\n",
      "Epoch 12/60\n",
      "361/361 [==============================] - 324s 895ms/step - loss: 1.6957 - accuracy: 0.8586 - precision: 0.5773 - recall: 0.0371 - auc: 0.7188 - f1_score: 0.0691 - val_loss: 1.6502 - val_accuracy: 0.8612 - val_precision: 0.6708 - val_recall: 0.0559 - val_auc: 0.7410 - val_f1_score: 0.1006 - lr: 0.0010\n",
      "Epoch 13/60\n",
      "361/361 [==============================] - 332s 918ms/step - loss: 1.7011 - accuracy: 0.8586 - precision: 0.5748 - recall: 0.0383 - auc: 0.7176 - f1_score: 0.0710 - val_loss: 1.6452 - val_accuracy: 0.8599 - val_precision: 0.7570 - val_recall: 0.0281 - val_auc: 0.7460 - val_f1_score: 0.0529 - lr: 0.0010\n",
      "Epoch 14/60\n",
      "361/361 [==============================] - 330s 914ms/step - loss: 1.6984 - accuracy: 0.8585 - precision: 0.5778 - recall: 0.0361 - auc: 0.7180 - f1_score: 0.0675 - val_loss: 1.6513 - val_accuracy: 0.8602 - val_precision: 0.7214 - val_recall: 0.0351 - val_auc: 0.7456 - val_f1_score: 0.0652 - lr: 0.0010\n",
      "Epoch 15/60\n",
      "361/361 [==============================] - 339s 935ms/step - loss: 1.7010 - accuracy: 0.8584 - precision: 0.5667 - recall: 0.0385 - auc: 0.7166 - f1_score: 0.0717 - val_loss: 1.6440 - val_accuracy: 0.8587 - val_precision: 0.7328 - val_recall: 0.0167 - val_auc: 0.7463 - val_f1_score: 0.0318 - lr: 0.0010\n",
      "Epoch 16/60\n",
      "361/361 [==============================] - 322s 891ms/step - loss: 1.7060 - accuracy: 0.8582 - precision: 0.5580 - recall: 0.0365 - auc: 0.7134 - f1_score: 0.0678 - val_loss: 1.6441 - val_accuracy: 0.8589 - val_precision: 0.7379 - val_recall: 0.0186 - val_auc: 0.7451 - val_f1_score: 0.0353 - lr: 0.0010\n",
      "Epoch 17/60\n",
      "361/361 [==============================] - 323s 895ms/step - loss: 1.7055 - accuracy: 0.8583 - precision: 0.5671 - recall: 0.0328 - auc: 0.7146 - f1_score: 0.0615 - val_loss: 1.6588 - val_accuracy: 0.8573 - val_precision: 0.6667 - val_recall: 0.0017 - val_auc: 0.7455 - val_f1_score: 0.0034 - lr: 0.0010\n",
      "Epoch 18/60\n",
      "361/361 [==============================] - 325s 898ms/step - loss: 1.7028 - accuracy: 0.8585 - precision: 0.5815 - recall: 0.0339 - auc: 0.7159 - f1_score: 0.0635 - val_loss: 1.6374 - val_accuracy: 0.8587 - val_precision: 0.7153 - val_recall: 0.0179 - val_auc: 0.7478 - val_f1_score: 0.0339 - lr: 0.0010\n",
      "Epoch 19/60\n",
      "361/361 [==============================] - 316s 876ms/step - loss: 1.6990 - accuracy: 0.8579 - precision: 0.5490 - recall: 0.0308 - auc: 0.7189 - f1_score: 0.0578 - val_loss: 1.6376 - val_accuracy: 0.8580 - val_precision: 0.8113 - val_recall: 0.0075 - val_auc: 0.7487 - val_f1_score: 0.0144 - lr: 0.0010\n",
      "Epoch 20/60\n",
      "361/361 [==============================] - 324s 896ms/step - loss: 1.7032 - accuracy: 0.8583 - precision: 0.5658 - recall: 0.0345 - auc: 0.7165 - f1_score: 0.0644 - val_loss: 1.6351 - val_accuracy: 0.8602 - val_precision: 0.7432 - val_recall: 0.0332 - val_auc: 0.7473 - val_f1_score: 0.0619 - lr: 0.0010\n",
      "Epoch 21/60\n",
      "361/361 [==============================] - 323s 893ms/step - loss: 1.6940 - accuracy: 0.8588 - precision: 0.5806 - recall: 0.0420 - auc: 0.7195 - f1_score: 0.0777 - val_loss: 1.6344 - val_accuracy: 0.8598 - val_precision: 0.7500 - val_recall: 0.0281 - val_auc: 0.7508 - val_f1_score: 0.0530 - lr: 0.0010\n",
      "Epoch 22/60\n",
      "361/361 [==============================] - 312s 863ms/step - loss: 1.6941 - accuracy: 0.8585 - precision: 0.5628 - recall: 0.0414 - auc: 0.7209 - f1_score: 0.0762 - val_loss: 1.6270 - val_accuracy: 0.8603 - val_precision: 0.7657 - val_recall: 0.0318 - val_auc: 0.7532 - val_f1_score: 0.0596 - lr: 0.0010\n",
      "Epoch 23/60\n",
      "361/361 [==============================] - 313s 866ms/step - loss: 1.6913 - accuracy: 0.8584 - precision: 0.5602 - recall: 0.0409 - auc: 0.7229 - f1_score: 0.0753 - val_loss: 1.6284 - val_accuracy: 0.8579 - val_precision: 0.7544 - val_recall: 0.0075 - val_auc: 0.7539 - val_f1_score: 0.0144 - lr: 0.0010\n",
      "Epoch 24/60\n",
      "361/361 [==============================] - 321s 888ms/step - loss: 1.6900 - accuracy: 0.8585 - precision: 0.5696 - recall: 0.0389 - auc: 0.7215 - f1_score: 0.0720 - val_loss: 1.6265 - val_accuracy: 0.8618 - val_precision: 0.7026 - val_recall: 0.0566 - val_auc: 0.7520 - val_f1_score: 0.1024 - lr: 0.0010\n",
      "Epoch 25/60\n",
      "361/361 [==============================] - 325s 900ms/step - loss: 1.6908 - accuracy: 0.8586 - precision: 0.5689 - recall: 0.0410 - auc: 0.7218 - f1_score: 0.0754 - val_loss: 1.6159 - val_accuracy: 0.8624 - val_precision: 0.6138 - val_recall: 0.0988 - val_auc: 0.7590 - val_f1_score: 0.1670 - lr: 0.0010\n",
      "Epoch 26/60\n",
      "361/361 [==============================] - 321s 889ms/step - loss: 1.6861 - accuracy: 0.8588 - precision: 0.5770 - recall: 0.0437 - auc: 0.7250 - f1_score: 0.0804 - val_loss: 1.7218 - val_accuracy: 0.8492 - val_precision: 0.4337 - val_recall: 0.1812 - val_auc: 0.7270 - val_f1_score: 0.2518 - lr: 0.0010\n"
     ]
    },
    {
     "name": "stdout",
     "output_type": "stream",
     "text": [
      "Epoch 27/60\n",
      "361/361 [==============================] - 322s 892ms/step - loss: 1.6886 - accuracy: 0.8588 - precision: 0.5678 - recall: 0.0494 - auc: 0.7233 - f1_score: 0.0901 - val_loss: 1.6254 - val_accuracy: 0.8596 - val_precision: 0.8301 - val_recall: 0.0220 - val_auc: 0.7553 - val_f1_score: 0.0420 - lr: 0.0010\n",
      "Epoch 28/60\n",
      "361/361 [==============================] - 325s 899ms/step - loss: 1.6867 - accuracy: 0.8592 - precision: 0.5863 - recall: 0.0480 - auc: 0.7245 - f1_score: 0.0879 - val_loss: 1.6093 - val_accuracy: 0.8627 - val_precision: 0.7092 - val_recall: 0.0656 - val_auc: 0.7608 - val_f1_score: 0.1176 - lr: 0.0010\n",
      "Epoch 29/60\n",
      "361/361 [==============================] - 321s 888ms/step - loss: 1.6847 - accuracy: 0.8590 - precision: 0.5723 - recall: 0.0515 - auc: 0.7247 - f1_score: 0.0936 - val_loss: 1.6246 - val_accuracy: 0.8619 - val_precision: 0.5929 - val_recall: 0.1069 - val_auc: 0.7537 - val_f1_score: 0.1879 - lr: 0.0010\n",
      "Epoch 30/60\n",
      "361/361 [==============================] - 320s 886ms/step - loss: 1.6794 - accuracy: 0.8591 - precision: 0.5726 - recall: 0.0532 - auc: 0.7277 - f1_score: 0.0964 - val_loss: 1.6200 - val_accuracy: 0.8625 - val_precision: 0.6709 - val_recall: 0.0733 - val_auc: 0.7564 - val_f1_score: 0.1292 - lr: 0.0010\n",
      "Epoch 31/60\n",
      "361/361 [==============================] - 320s 885ms/step - loss: 1.6824 - accuracy: 0.8593 - precision: 0.5813 - recall: 0.0549 - auc: 0.7263 - f1_score: 0.0995 - val_loss: 1.6116 - val_accuracy: 0.8623 - val_precision: 0.6561 - val_recall: 0.0755 - val_auc: 0.7610 - val_f1_score: 0.1326 - lr: 0.0010\n",
      "Epoch 32/60\n",
      "361/361 [==============================] - 322s 891ms/step - loss: 1.6790 - accuracy: 0.8599 - precision: 0.6054 - recall: 0.0548 - auc: 0.7277 - f1_score: 0.0999 - val_loss: 1.6192 - val_accuracy: 0.8605 - val_precision: 0.7729 - val_recall: 0.0337 - val_auc: 0.7589 - val_f1_score: 0.0629 - lr: 0.0010\n",
      "Epoch 33/60\n",
      "361/361 [==============================] - 316s 875ms/step - loss: 1.6808 - accuracy: 0.8595 - precision: 0.5909 - recall: 0.0539 - auc: 0.7278 - f1_score: 0.0981 - val_loss: 1.6115 - val_accuracy: 0.8615 - val_precision: 0.7204 - val_recall: 0.0496 - val_auc: 0.7608 - val_f1_score: 0.0905 - lr: 0.0010\n",
      "Epoch 34/60\n",
      "361/361 [==============================] - 322s 893ms/step - loss: 1.6872 - accuracy: 0.8594 - precision: 0.5917 - recall: 0.0518 - auc: 0.7249 - f1_score: 0.0948 - val_loss: 1.6238 - val_accuracy: 0.8603 - val_precision: 0.7867 - val_recall: 0.0307 - val_auc: 0.7554 - val_f1_score: 0.0578 - lr: 0.0010\n",
      "Epoch 35/60\n",
      "361/361 [==============================] - 326s 902ms/step - loss: 1.6812 - accuracy: 0.8593 - precision: 0.5868 - recall: 0.0520 - auc: 0.7274 - f1_score: 0.0949 - val_loss: 1.6148 - val_accuracy: 0.8619 - val_precision: 0.6859 - val_recall: 0.0618 - val_auc: 0.7586 - val_f1_score: 0.1110 - lr: 0.0010\n",
      "Epoch 36/60\n",
      "361/361 [==============================] - 320s 885ms/step - loss: 1.6797 - accuracy: 0.8599 - precision: 0.6031 - recall: 0.0568 - auc: 0.7266 - f1_score: 0.1031 - val_loss: 1.6113 - val_accuracy: 0.8627 - val_precision: 0.6642 - val_recall: 0.0790 - val_auc: 0.7583 - val_f1_score: 0.1380 - lr: 0.0010\n",
      "Epoch 37/60\n",
      "361/361 [==============================] - 324s 896ms/step - loss: 1.6821 - accuracy: 0.8596 - precision: 0.5990 - recall: 0.0530 - auc: 0.7267 - f1_score: 0.0968 - val_loss: 1.6422 - val_accuracy: 0.8589 - val_precision: 0.8350 - val_recall: 0.0149 - val_auc: 0.7524 - val_f1_score: 0.0286 - lr: 0.0010\n",
      "Epoch 38/60\n",
      "361/361 [==============================] - 322s 891ms/step - loss: 1.6877 - accuracy: 0.8588 - precision: 0.5728 - recall: 0.0457 - auc: 0.7238 - f1_score: 0.0842 - val_loss: 1.6249 - val_accuracy: 0.8601 - val_precision: 0.7543 - val_recall: 0.0304 - val_auc: 0.7576 - val_f1_score: 0.0570 - lr: 0.0010\n",
      "Epoch 39/60\n",
      "361/361 [==============================] - 322s 891ms/step - loss: 1.6863 - accuracy: 0.8595 - precision: 0.6029 - recall: 0.0479 - auc: 0.7246 - f1_score: 0.0880 - val_loss: 1.6331 - val_accuracy: 0.8606 - val_precision: 0.7071 - val_recall: 0.0415 - val_auc: 0.7490 - val_f1_score: 0.0765 - lr: 0.0010\n",
      "Epoch 40/60\n",
      "361/361 [==============================] - 326s 903ms/step - loss: 1.6833 - accuracy: 0.8597 - precision: 0.6047 - recall: 0.0522 - auc: 0.7251 - f1_score: 0.0958 - val_loss: 1.6421 - val_accuracy: 0.8628 - val_precision: 0.6939 - val_recall: 0.0708 - val_auc: 0.7416 - val_f1_score: 0.1260 - lr: 0.0010\n",
      "Epoch 41/60\n",
      "361/361 [==============================] - 322s 892ms/step - loss: 1.6910 - accuracy: 0.8593 - precision: 0.5989 - recall: 0.0457 - auc: 0.7222 - f1_score: 0.0844 - val_loss: 1.6225 - val_accuracy: 0.8620 - val_precision: 0.7082 - val_recall: 0.0581 - val_auc: 0.7531 - val_f1_score: 0.1052 - lr: 0.0010\n",
      "Epoch 42/60\n",
      "361/361 [==============================] - 314s 868ms/step - loss: 1.6850 - accuracy: 0.8594 - precision: 0.5966 - recall: 0.0484 - auc: 0.7248 - f1_score: 0.0886 - val_loss: 1.6287 - val_accuracy: 0.8620 - val_precision: 0.6304 - val_recall: 0.0814 - val_auc: 0.7513 - val_f1_score: 0.1410 - lr: 0.0010\n",
      "Epoch 43/60\n",
      "361/361 [==============================] - 314s 868ms/step - loss: 1.6834 - accuracy: 0.8596 - precision: 0.6010 - recall: 0.0507 - auc: 0.7253 - f1_score: 0.0929 - val_loss: 1.6246 - val_accuracy: 0.8616 - val_precision: 0.7284 - val_recall: 0.0498 - val_auc: 0.7561 - val_f1_score: 0.0912 - lr: 0.0010\n",
      "Epoch 44/60\n",
      "361/361 [==============================] - 321s 888ms/step - loss: 1.6874 - accuracy: 0.8591 - precision: 0.5829 - recall: 0.0490 - auc: 0.7240 - f1_score: 0.0895 - val_loss: 1.6194 - val_accuracy: 0.8602 - val_precision: 0.7828 - val_recall: 0.0300 - val_auc: 0.7604 - val_f1_score: 0.0564 - lr: 0.0010\n",
      "Epoch 45/60\n",
      "361/361 [==============================] - 320s 886ms/step - loss: 1.6846 - accuracy: 0.8595 - precision: 0.5946 - recall: 0.0511 - auc: 0.7252 - f1_score: 0.0934 - val_loss: 1.6210 - val_accuracy: 0.8597 - val_precision: 0.8059 - val_recall: 0.0238 - val_auc: 0.7619 - val_f1_score: 0.0451 - lr: 0.0010\n",
      "Epoch 46/60\n",
      "361/361 [==============================] - 320s 884ms/step - loss: 1.6920 - accuracy: 0.8592 - precision: 0.5812 - recall: 0.0523 - auc: 0.7214 - f1_score: 0.0951 - val_loss: 1.6401 - val_accuracy: 0.8593 - val_precision: 0.5644 - val_recall: 0.0661 - val_auc: 0.7533 - val_f1_score: 0.1156 - lr: 0.0010\n",
      "Epoch 47/60\n",
      "361/361 [==============================] - 315s 872ms/step - loss: 1.6845 - accuracy: 0.8595 - precision: 0.5961 - recall: 0.0516 - auc: 0.7250 - f1_score: 0.0943 - val_loss: 1.6113 - val_accuracy: 0.8613 - val_precision: 0.7328 - val_recall: 0.0462 - val_auc: 0.7606 - val_f1_score: 0.0848 - lr: 0.0010\n",
      "Epoch 48/60\n",
      "361/361 [==============================] - ETA: 0s - loss: 1.6808 - accuracy: 0.8596 - precision: 0.5858 - recall: 0.0585 - auc: 0.7267 - f1_score: 0.1059\n",
      "Epoch 48: ReduceLROnPlateau reducing learning rate to 0.0005000000237487257.\n",
      "361/361 [==============================] - 280s 776ms/step - loss: 1.6808 - accuracy: 0.8596 - precision: 0.5858 - recall: 0.0585 - auc: 0.7267 - f1_score: 0.1059 - val_loss: 1.6175 - val_accuracy: 0.8615 - val_precision: 0.7358 - val_recall: 0.0474 - val_auc: 0.7602 - val_f1_score: 0.0870 - lr: 0.0010\n",
      "Epoch 48: early stopping\n"
     ]
    }
   ],
   "source": [
    "history=model2.fit(train_dataset,validation_data=valid_dataset,epochs = 60,verbose = 1,callbacks=[lrd,mcp,es])"
   ]
  },
  {
   "cell_type": "code",
   "execution_count": 24,
   "metadata": {},
   "outputs": [
    {
     "name": "stdout",
     "output_type": "stream",
     "text": [
      "111/111 [==============================] - 64s 570ms/step\n"
     ]
    }
   ],
   "source": [
    "score = model2.predict(test_dataset)"
   ]
  },
  {
   "cell_type": "code",
   "execution_count": 25,
   "metadata": {},
   "outputs": [
    {
     "name": "stdout",
     "output_type": "stream",
     "text": [
      "111/111 [==============================] - 46s 412ms/step - loss: 1.6113 - accuracy: 0.8615 - precision: 0.7338 - recall: 0.0480 - auc: 0.7639 - f1_score: 0.0889\n"
     ]
    }
   ],
   "source": []
  }
 ],
 "metadata": {
  "kernelspec": {
   "display_name": "Python 3 (ipykernel)",
   "language": "python",
   "name": "python3"
  },
  "language_info": {
   "codemirror_mode": {
    "name": "ipython",
    "version": 3
   },
   "file_extension": ".py",
   "mimetype": "text/x-python",
   "name": "python",
   "nbconvert_exporter": "python",
   "pygments_lexer": "ipython3",
   "version": "3.9.12"
  },
  "papermill": {
   "default_parameters": {},
   "duration": 9852.500139,
   "end_time": "2021-03-19T16:55:01.035524",
   "environment_variables": {},
   "exception": null,
   "input_path": "__notebook__.ipynb",
   "output_path": "__notebook__.ipynb",
   "parameters": {},
   "start_time": "2021-03-19T14:10:48.535385",
   "version": "2.2.2"
  }
 },
 "nbformat": 4,
 "nbformat_minor": 4
}
